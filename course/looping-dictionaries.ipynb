{
 "cells": [
  {
   "cell_type": "markdown",
   "metadata": {},
   "source": [
    "## Looping over dictionaries\n",
    "\n",
    "Depending on what data you need from a dictionary, looping can be done in several different ways to extract data. You may want to:\n",
    "\n",
    "1. Retrieve only keys\n",
    "1. Retrieve only values\n",
    "1. Retrieve both keys and values\n",
    "\n",
    "This section covers the three different ways to extract data which you can pair with other data retrieval techniques in the previous lesson"
   ]
  },
  {
   "cell_type": "code",
   "execution_count": null,
   "metadata": {},
   "outputs": [],
   "source": [
    "contact_information = {\n",
    "    \"name\": \"Alfredo\", \n",
    "    \"lastname\": \"Deza\", \n",
    "    \"age\": 49,\n",
    "    \"height\": 1.90,\n",
    "}"
   ]
  },
  {
   "cell_type": "code",
   "execution_count": null,
   "metadata": {},
   "outputs": [],
   "source": [
    "# Retrieve only keys by default or explitictly"
   ]
  },
  {
   "cell_type": "code",
   "execution_count": null,
   "metadata": {},
   "outputs": [],
   "source": [
    "# Retrieve only values"
   ]
  },
  {
   "cell_type": "code",
   "execution_count": null,
   "metadata": {},
   "outputs": [],
   "source": [
    "# Retrieve both keys and values"
   ]
  }
 ],
 "metadata": {
  "language_info": {
   "name": "python"
  },
  "orig_nbformat": 4
 },
 "nbformat": 4,
 "nbformat_minor": 2
}
